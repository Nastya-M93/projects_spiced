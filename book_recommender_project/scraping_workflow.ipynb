{
 "cells": [
  {
   "cell_type": "code",
   "execution_count": 1,
   "metadata": {},
   "outputs": [],
   "source": [
    "import requests\n",
    "from bs4 import BeautifulSoup as bs\n",
    "import time\n",
    "import re"
   ]
  },
  {
   "cell_type": "markdown",
   "metadata": {},
   "source": [
    "### The workflow:\n",
    "I decided to scrape the books with tag 'business' from goodreads.com: <br><br>\n",
    "\n",
    "1. get the hrefs of the lists with tag 'business'<br>\n",
    "2. get hrefs of all books on page 1 of first goodreads-list<br>\n",
    "3. create a list of dictionaries for all books, so then I can convert it to df<br>"
   ]
  },
  {
   "cell_type": "code",
   "execution_count": null,
   "metadata": {},
   "outputs": [],
   "source": [
    "# №1: \n",
    "\n",
    "def get_list_hrefs(tag:str, page):\n",
    "    \"\"\"Given a tag name and page-no returns the urls of the Goodreads-list.\"\"\"\n",
    "    \n",
    "    url = f'https://www.goodreads.com/list/tag/{tag}?page={page}&utf8=✓'\n",
    "    page = requests.get(url)\n",
    "    soup = bs(page.content, 'html.parser')\n",
    "    href_url = [tag['href'] for tag in soup.find_all('a', {'class':'listTitle'})]\n",
    "    return href_url"
   ]
  },
  {
   "cell_type": "code",
   "execution_count": null,
   "metadata": {},
   "outputs": [],
   "source": [
    "# return all hrefs from the first page on Goodreads with tag 'business'\n",
    "list_hrefs = get_list_hrefs('business', 1)"
   ]
  },
  {
   "cell_type": "code",
   "execution_count": null,
   "metadata": {},
   "outputs": [],
   "source": [
    "# №2:\n",
    "\n",
    "def get_href_from_soups(url:str) -> list:\n",
    "    \"\"\"Given the url of one Goodreads-list returns a list of all book-urls.\"\"\"\n",
    "    \n",
    "    url = f'https://www.goodreads.com/{url}'\n",
    "    page = requests.get(url)\n",
    "    soup = bs(page.content, 'html.parser')\n",
    "    href_url = [tag['href'] for tag in soup.find_all('a', {'class':'bookTitle'})]\n",
    "    return href_url"
   ]
  },
  {
   "cell_type": "code",
   "execution_count": null,
   "metadata": {},
   "outputs": [],
   "source": [
    "# return the hrefs of the books from the first Goodreads-list with tag 'business'\n",
    "href_book_1 = get_href_from_soups(list_hrefs[0])"
   ]
  },
  {
   "cell_type": "code",
   "execution_count": null,
   "metadata": {},
   "outputs": [],
   "source": [
    "# №3:\n",
    "\n",
    "def from_href_to_infos(href_list:list):\n",
    "    \"\"\"Given list of book_urls creates a list of dicts of all books.\"\"\"\n",
    "\n",
    "    def get_title(soup):\n",
    "        return soup.title.get_text()\n",
    "\n",
    "\n",
    "    def get_author_name(soup):\n",
    "        aut_li = []\n",
    "        for item in soup.find_all('span', {'itemprop':'name'}):\n",
    "            aut_li.append(re.sub('\\s+', ' ',item.get_text()))\n",
    "        return aut_li\n",
    "    \n",
    "    def get_author_link(soup):\n",
    "        return [tag['href'] for tag in soup.find_all('a', {'class':'authorName'})]\n",
    "\n",
    "    \n",
    "    def get_rating(soup):\n",
    "        return float(soup.find('span', {'itemprop':'ratingValue'}).get_text()) \n",
    "    \n",
    "    \n",
    "    def get_rating_count(soup):\n",
    "        return int(re.sub(',','',soup.find('meta', {'itemprop':'ratingCount'}).get_text().split()[0]))\n",
    "    \n",
    "    \n",
    "    def get_genre(soup):\n",
    "        genre_li = []\n",
    "        for item in soup.find_all('a', {'class':'actionLinkLite bookPageGenreLink'}):\n",
    "            genre = item.get_text()\n",
    "            if genre not in genre_li:\n",
    "                genre_li.append(genre)\n",
    "            else:\n",
    "                pass\n",
    "        return genre_li\n",
    "    \n",
    "    \n",
    "    def get_book_description(soup):\n",
    "        \n",
    "        return re.sub('\\n', '', soup.find('div', { 'id' : 'description'}).get_text())\n",
    "\n",
    "        \n",
    "    def get_pages_num(soup):\n",
    "        return int(soup.find('span', { 'itemprop' : 'numberOfPages'}).get_text().split()[0])\n",
    "    \n",
    "    \n",
    "    def get_year_publ(soup):\n",
    "        for item in soup.find_all('div', { 'class' : 'row'}):\n",
    "            try:\n",
    "                if 'Published' in item.get_text():\n",
    "                    return int(item.get_text().split()[3])\n",
    "            except ValueError:\n",
    "                return 0\n",
    "    \n",
    "    \n",
    "    def get_image_url(soup):\n",
    "        return [tag['src'] for tag in soup.find_all('img', { 'id' : 'coverImage'})]\n",
    "    \n",
    "    \n",
    "    def get_url_quotes(soup):\n",
    "        quotes_li = []\n",
    "        for item in soup.find_all('h2', { 'class' : 'brownBackground'}):\n",
    "            hr = [tag['href'] for tag in item.find_all('a')]\n",
    "            quotes_li.append(hr)\n",
    "        return quotes_li[-1]\n",
    "    \n",
    "    \n",
    "    all_books = []\n",
    "    for i in href_list:\n",
    "        url = f'https://www.goodreads.com{i}'\n",
    "        page = requests.get(url)\n",
    "        soup = bs(page.content, 'html.parser')\n",
    "        \n",
    "        book_dict = {'title' : get_title(soup),\n",
    "                     'author' : get_author_name(soup),\n",
    "                     'author_link' : get_author_link(soup),\n",
    "                     'avg_rating' : get_rating(soup), \n",
    "                     'rating_count' : get_rating_count(soup),\n",
    "                     'genres' : get_genre(soup),\n",
    "                     'description' : get_book_description(soup),\n",
    "                     'book_url' : url,\n",
    "                     'num_pages' : get_pages_num(soup),\n",
    "                     'year' : get_year_publ(soup),\n",
    "                     'cover' : get_image_url(soup),\n",
    "                     'quotes_url' : get_url_quotes(soup)}\n",
    "        \n",
    "        all_books.append(book_dict)\n",
    "        \n",
    "    return all_books"
   ]
  },
  {
   "cell_type": "code",
   "execution_count": null,
   "metadata": {},
   "outputs": [],
   "source": []
  }
 ],
 "metadata": {
  "kernelspec": {
   "display_name": "Python 3",
   "language": "python",
   "name": "python3"
  },
  "language_info": {
   "codemirror_mode": {
    "name": "ipython",
    "version": 3
   },
   "file_extension": ".py",
   "mimetype": "text/x-python",
   "name": "python",
   "nbconvert_exporter": "python",
   "pygments_lexer": "ipython3",
   "version": "3.8.5"
  }
 },
 "nbformat": 4,
 "nbformat_minor": 4
}
